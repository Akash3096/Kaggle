{
 "cells": [
  {
   "cell_type": "code",
   "execution_count": 1,
   "metadata": {
    "_cell_guid": "b1076dfc-b9ad-4769-8c92-a6c4dae69d19",
    "_uuid": "8f2839f25d086af736a60e9eeb907d3b93b6e0e5"
   },
   "outputs": [],
   "source": [
    "# This Python 3 environment comes with many helpful analytics libraries installed\n",
    "# It is defined by the kaggle/python docker image: https://github.com/kaggle/docker-python\n",
    "# For example, here's several helpful packages to load in \n",
    "\n",
    "import numpy as np # linear algebra\n",
    "import pandas as pd # data processing, CSV file I/O (e.g. pd.read_csv)\n",
    "\n",
    "# Input data files are available in the \"../input/\" directory.\n",
    "# For example, running this (by clicking run or pressing Shift+Enter) will list the files in the input directory\n",
    "\n",
    "# import os\n",
    "# print(os.listdir(\"../input\"))\n",
    "\n",
    "# Any results you write to the current directory are saved as output."
   ]
  },
  {
   "cell_type": "code",
   "execution_count": 2,
   "metadata": {},
   "outputs": [
    {
     "name": "stdout",
     "output_type": "stream",
     "text": [
      "acoustic.png  catboost_info  data  EarthQuake_One.ipynb  ttf.png\r\n"
     ]
    }
   ],
   "source": [
    "!ls"
   ]
  },
  {
   "cell_type": "code",
   "execution_count": 3,
   "metadata": {
    "_cell_guid": "79c7e3d0-c299-4dcb-8224-4455121ee9b0",
    "_uuid": "d629ff2d2480ee46fbb7e2d37f6b5fab8052498a"
   },
   "outputs": [
    {
     "name": "stdout",
     "output_type": "stream",
     "text": [
      "CPU times: user 1min 39s, sys: 5.73 s, total: 1min 45s\n",
      "Wall time: 1min 52s\n"
     ]
    }
   ],
   "source": [
    "%%time\n",
    "# train_df = pd.read_csv('../input/train.csv', dtype={'acoustic_data': np.int16, 'time_to_failure': np.float64})\n",
    "train_df = pd.read_csv('data/train.csv', dtype={'acoustic_data': np.int16, 'time_to_failure': np.float64})"
   ]
  },
  {
   "cell_type": "code",
   "execution_count": 9,
   "metadata": {
    "_uuid": "83e312c2633f1a89d4a847cd63e75756d16f34fa"
   },
   "outputs": [],
   "source": [
    "from tqdm import tqdm\n",
    "import matplotlib.pyplot as plt\n",
    "from sklearn.preprocessing import StandardScaler\n",
    "from sklearn.metrics import mean_absolute_error\n",
    "from sklearn.ensemble import RandomForestRegressor\n",
    "from catboost import CatBoostRegressor"
   ]
  },
  {
   "cell_type": "code",
   "execution_count": 10,
   "metadata": {
    "_uuid": "aad4a469c82231b8235ad23c8fd188a055b0568f"
   },
   "outputs": [
    {
     "name": "stderr",
     "output_type": "stream",
     "text": [
      "100%|██████████| 24534/24534 [02:49<00:00, 145.10it/s]\n"
     ]
    }
   ],
   "source": [
    "rows = 15_000\n",
    "segments = int(np.floor(train_df.shape[0] / rows))\n",
    "\n",
    "X_train = pd.DataFrame(index=range(segments), dtype=np.float64,\n",
    "                       columns=['ave', 'std', 'max', 'min', 'mad', 'kur', 'skew', 'q95', 'q99','q05', 'q01'])\n",
    "y_train = pd.DataFrame(index=range(segments), dtype=np.float64,\n",
    "                       columns=['time_to_failure'])\n",
    "\n",
    "for segment in tqdm(range(segments)):\n",
    "    seg = train_df.iloc[segment*rows:segment*rows+rows]\n",
    "    x = seg['acoustic_data']\n",
    "    y = seg['time_to_failure'].values[-1]\n",
    "    \n",
    "    y_train.loc[segment, 'time_to_failure'] = y\n",
    "    \n",
    "    X_train.loc[segment, 'ave'] = x.mean()\n",
    "    X_train.loc[segment, 'std'] = x.std()\n",
    "    X_train.loc[segment, 'max'] = x.max()\n",
    "    X_train.loc[segment, 'min'] = x.min()\n",
    "    X_train.loc[segment, 'mad'] = x.mad()\n",
    "    X_train.loc[segment, 'kur'] = x.kurtosis()\n",
    "    X_train.loc[segment, 'skew'] = x.skew()\n",
    "    X_train.loc[segment, 'q95'] = np.quantile(x,0.95)\n",
    "    X_train.loc[segment, 'q99'] = np.quantile(x,0.99)\n",
    "    X_train.loc[segment, 'q05'] = np.quantile(x,0.05)\n",
    "    X_train.loc[segment, 'q01'] = np.quantile(x,0.01)"
   ]
  },
  {
   "cell_type": "code",
   "execution_count": 11,
   "metadata": {
    "_uuid": "fba51ef866ff698f048ca350b11508106cdc29a5"
   },
   "outputs": [
    {
     "data": {
      "text/html": [
       "<div>\n",
       "<style scoped>\n",
       "    .dataframe tbody tr th:only-of-type {\n",
       "        vertical-align: middle;\n",
       "    }\n",
       "\n",
       "    .dataframe tbody tr th {\n",
       "        vertical-align: top;\n",
       "    }\n",
       "\n",
       "    .dataframe thead th {\n",
       "        text-align: right;\n",
       "    }\n",
       "</style>\n",
       "<table border=\"1\" class=\"dataframe\">\n",
       "  <thead>\n",
       "    <tr style=\"text-align: right;\">\n",
       "      <th></th>\n",
       "      <th>ave</th>\n",
       "      <th>std</th>\n",
       "      <th>max</th>\n",
       "      <th>min</th>\n",
       "      <th>mad</th>\n",
       "      <th>kur</th>\n",
       "      <th>skew</th>\n",
       "      <th>q95</th>\n",
       "      <th>q99</th>\n",
       "      <th>q05</th>\n",
       "      <th>q01</th>\n",
       "    </tr>\n",
       "  </thead>\n",
       "  <tbody>\n",
       "    <tr>\n",
       "      <th>0</th>\n",
       "      <td>5.083667</td>\n",
       "      <td>9.648327</td>\n",
       "      <td>104.0</td>\n",
       "      <td>-98.0</td>\n",
       "      <td>5.293493</td>\n",
       "      <td>21.406174</td>\n",
       "      <td>-0.131321</td>\n",
       "      <td>16.0</td>\n",
       "      <td>36.0</td>\n",
       "      <td>-6.0</td>\n",
       "      <td>-27.0</td>\n",
       "    </tr>\n",
       "    <tr>\n",
       "      <th>1</th>\n",
       "      <td>4.939733</td>\n",
       "      <td>3.933370</td>\n",
       "      <td>30.0</td>\n",
       "      <td>-20.0</td>\n",
       "      <td>2.849929</td>\n",
       "      <td>4.195286</td>\n",
       "      <td>-0.039745</td>\n",
       "      <td>11.0</td>\n",
       "      <td>15.0</td>\n",
       "      <td>-1.0</td>\n",
       "      <td>-5.0</td>\n",
       "    </tr>\n",
       "    <tr>\n",
       "      <th>2</th>\n",
       "      <td>4.931600</td>\n",
       "      <td>5.220505</td>\n",
       "      <td>40.0</td>\n",
       "      <td>-35.0</td>\n",
       "      <td>3.739596</td>\n",
       "      <td>4.026044</td>\n",
       "      <td>0.000936</td>\n",
       "      <td>13.0</td>\n",
       "      <td>19.0</td>\n",
       "      <td>-3.0</td>\n",
       "      <td>-10.0</td>\n",
       "    </tr>\n",
       "    <tr>\n",
       "      <th>3</th>\n",
       "      <td>4.761800</td>\n",
       "      <td>3.950776</td>\n",
       "      <td>34.0</td>\n",
       "      <td>-19.0</td>\n",
       "      <td>2.930669</td>\n",
       "      <td>3.339573</td>\n",
       "      <td>0.176724</td>\n",
       "      <td>11.0</td>\n",
       "      <td>15.0</td>\n",
       "      <td>-1.0</td>\n",
       "      <td>-6.0</td>\n",
       "    </tr>\n",
       "    <tr>\n",
       "      <th>4</th>\n",
       "      <td>5.143667</td>\n",
       "      <td>5.301783</td>\n",
       "      <td>52.0</td>\n",
       "      <td>-56.0</td>\n",
       "      <td>3.419978</td>\n",
       "      <td>14.269695</td>\n",
       "      <td>-0.055047</td>\n",
       "      <td>12.0</td>\n",
       "      <td>21.0</td>\n",
       "      <td>-2.0</td>\n",
       "      <td>-10.0</td>\n",
       "    </tr>\n",
       "    <tr>\n",
       "      <th>5</th>\n",
       "      <td>5.120533</td>\n",
       "      <td>4.549511</td>\n",
       "      <td>52.0</td>\n",
       "      <td>-37.0</td>\n",
       "      <td>2.987598</td>\n",
       "      <td>15.897462</td>\n",
       "      <td>0.145959</td>\n",
       "      <td>11.0</td>\n",
       "      <td>17.0</td>\n",
       "      <td>-1.0</td>\n",
       "      <td>-7.0</td>\n",
       "    </tr>\n",
       "    <tr>\n",
       "      <th>6</th>\n",
       "      <td>5.046667</td>\n",
       "      <td>4.279078</td>\n",
       "      <td>40.0</td>\n",
       "      <td>-32.0</td>\n",
       "      <td>2.986257</td>\n",
       "      <td>8.247734</td>\n",
       "      <td>-0.003798</td>\n",
       "      <td>11.0</td>\n",
       "      <td>16.0</td>\n",
       "      <td>-1.0</td>\n",
       "      <td>-6.0</td>\n",
       "    </tr>\n",
       "    <tr>\n",
       "      <th>7</th>\n",
       "      <td>4.797333</td>\n",
       "      <td>3.580342</td>\n",
       "      <td>30.0</td>\n",
       "      <td>-21.0</td>\n",
       "      <td>2.722803</td>\n",
       "      <td>2.220999</td>\n",
       "      <td>0.010936</td>\n",
       "      <td>10.0</td>\n",
       "      <td>14.0</td>\n",
       "      <td>-1.0</td>\n",
       "      <td>-4.0</td>\n",
       "    </tr>\n",
       "    <tr>\n",
       "      <th>8</th>\n",
       "      <td>4.483467</td>\n",
       "      <td>3.244117</td>\n",
       "      <td>22.0</td>\n",
       "      <td>-16.0</td>\n",
       "      <td>2.516483</td>\n",
       "      <td>1.387338</td>\n",
       "      <td>-0.023910</td>\n",
       "      <td>10.0</td>\n",
       "      <td>12.0</td>\n",
       "      <td>-1.0</td>\n",
       "      <td>-3.0</td>\n",
       "    </tr>\n",
       "    <tr>\n",
       "      <th>9</th>\n",
       "      <td>4.532667</td>\n",
       "      <td>4.224041</td>\n",
       "      <td>26.0</td>\n",
       "      <td>-16.0</td>\n",
       "      <td>3.163073</td>\n",
       "      <td>1.819901</td>\n",
       "      <td>0.071072</td>\n",
       "      <td>11.0</td>\n",
       "      <td>16.0</td>\n",
       "      <td>-2.0</td>\n",
       "      <td>-7.0</td>\n",
       "    </tr>\n",
       "  </tbody>\n",
       "</table>\n",
       "</div>"
      ],
      "text/plain": [
       "        ave       std    max   min       mad        kur      skew   q95   q99  \\\n",
       "0  5.083667  9.648327  104.0 -98.0  5.293493  21.406174 -0.131321  16.0  36.0   \n",
       "1  4.939733  3.933370   30.0 -20.0  2.849929   4.195286 -0.039745  11.0  15.0   \n",
       "2  4.931600  5.220505   40.0 -35.0  3.739596   4.026044  0.000936  13.0  19.0   \n",
       "3  4.761800  3.950776   34.0 -19.0  2.930669   3.339573  0.176724  11.0  15.0   \n",
       "4  5.143667  5.301783   52.0 -56.0  3.419978  14.269695 -0.055047  12.0  21.0   \n",
       "5  5.120533  4.549511   52.0 -37.0  2.987598  15.897462  0.145959  11.0  17.0   \n",
       "6  5.046667  4.279078   40.0 -32.0  2.986257   8.247734 -0.003798  11.0  16.0   \n",
       "7  4.797333  3.580342   30.0 -21.0  2.722803   2.220999  0.010936  10.0  14.0   \n",
       "8  4.483467  3.244117   22.0 -16.0  2.516483   1.387338 -0.023910  10.0  12.0   \n",
       "9  4.532667  4.224041   26.0 -16.0  3.163073   1.819901  0.071072  11.0  16.0   \n",
       "\n",
       "   q05   q01  \n",
       "0 -6.0 -27.0  \n",
       "1 -1.0  -5.0  \n",
       "2 -3.0 -10.0  \n",
       "3 -1.0  -6.0  \n",
       "4 -2.0 -10.0  \n",
       "5 -1.0  -7.0  \n",
       "6 -1.0  -6.0  \n",
       "7 -1.0  -4.0  \n",
       "8 -1.0  -3.0  \n",
       "9 -2.0  -7.0  "
      ]
     },
     "execution_count": 11,
     "metadata": {},
     "output_type": "execute_result"
    }
   ],
   "source": [
    "X_train.head(10)"
   ]
  },
  {
   "cell_type": "code",
   "execution_count": 12,
   "metadata": {
    "_uuid": "85f277d0d65ff42722b805a77dc0923b5cbfe090"
   },
   "outputs": [
    {
     "data": {
      "text/html": [
       "<div>\n",
       "<style scoped>\n",
       "    .dataframe tbody tr th:only-of-type {\n",
       "        vertical-align: middle;\n",
       "    }\n",
       "\n",
       "    .dataframe tbody tr th {\n",
       "        vertical-align: top;\n",
       "    }\n",
       "\n",
       "    .dataframe thead th {\n",
       "        text-align: right;\n",
       "    }\n",
       "</style>\n",
       "<table border=\"1\" class=\"dataframe\">\n",
       "  <thead>\n",
       "    <tr style=\"text-align: right;\">\n",
       "      <th></th>\n",
       "      <th>time_to_failure</th>\n",
       "    </tr>\n",
       "  </thead>\n",
       "  <tbody>\n",
       "    <tr>\n",
       "      <th>0</th>\n",
       "      <td>1.465897</td>\n",
       "    </tr>\n",
       "    <tr>\n",
       "      <th>1</th>\n",
       "      <td>1.461699</td>\n",
       "    </tr>\n",
       "    <tr>\n",
       "      <th>2</th>\n",
       "      <td>1.458496</td>\n",
       "    </tr>\n",
       "    <tr>\n",
       "      <th>3</th>\n",
       "      <td>1.454197</td>\n",
       "    </tr>\n",
       "    <tr>\n",
       "      <th>4</th>\n",
       "      <td>1.449999</td>\n",
       "    </tr>\n",
       "    <tr>\n",
       "      <th>5</th>\n",
       "      <td>1.446796</td>\n",
       "    </tr>\n",
       "    <tr>\n",
       "      <th>6</th>\n",
       "      <td>1.442497</td>\n",
       "    </tr>\n",
       "    <tr>\n",
       "      <th>7</th>\n",
       "      <td>1.438299</td>\n",
       "    </tr>\n",
       "    <tr>\n",
       "      <th>8</th>\n",
       "      <td>1.435096</td>\n",
       "    </tr>\n",
       "    <tr>\n",
       "      <th>9</th>\n",
       "      <td>1.430797</td>\n",
       "    </tr>\n",
       "  </tbody>\n",
       "</table>\n",
       "</div>"
      ],
      "text/plain": [
       "   time_to_failure\n",
       "0         1.465897\n",
       "1         1.461699\n",
       "2         1.458496\n",
       "3         1.454197\n",
       "4         1.449999\n",
       "5         1.446796\n",
       "6         1.442497\n",
       "7         1.438299\n",
       "8         1.435096\n",
       "9         1.430797"
      ]
     },
     "execution_count": 12,
     "metadata": {},
     "output_type": "execute_result"
    }
   ],
   "source": [
    "y_train.head(10)"
   ]
  },
  {
   "cell_type": "code",
   "execution_count": null,
   "metadata": {
    "_uuid": "dc7a3eb4909e7240c747bb28317b1fba2a609f85"
   },
   "outputs": [],
   "source": [
    "X_train.shape,y_train.shape"
   ]
  },
  {
   "cell_type": "code",
   "execution_count": null,
   "metadata": {
    "_uuid": "281bfe722a3364937b623a6b6c4a506b4a9a393a"
   },
   "outputs": [],
   "source": [
    "scaler = StandardScaler()\n",
    "scaler.fit(X_train)\n",
    "X_train_scaled = scaler.transform(X_train)"
   ]
  },
  {
   "cell_type": "code",
   "execution_count": null,
   "metadata": {
    "_uuid": "790ac21f35681be4de59f7c6f7ac3f9728197c3b"
   },
   "outputs": [],
   "source": [
    "X_train_scaled.shape"
   ]
  },
  {
   "cell_type": "code",
   "execution_count": null,
   "metadata": {
    "_uuid": "84ff77ed7103d1d4c419d8ef6ac737e3f127bd3b"
   },
   "outputs": [],
   "source": [
    "rf = RandomForestRegressor(n_estimators = 1000, random_state = 50)\n",
    "rf.fit(X_train_scaled, y_train.values.flatten())\n",
    "y_predrf = rf.predict(X_train_scaled)"
   ]
  },
  {
   "cell_type": "code",
   "execution_count": null,
   "metadata": {
    "_uuid": "064b894d34077b1c75af2507be4556eda871cfea"
   },
   "outputs": [],
   "source": [
    "m = CatBoostRegressor(loss_function='MAE')\n",
    "m.fit(X_train_scaled, y_train.values.flatten(), silent=True)\n",
    "y_predcb = m.predict(X_train_scaled)"
   ]
  },
  {
   "cell_type": "code",
   "execution_count": null,
   "metadata": {
    "_uuid": "633d90e7356e8a69e1abed11dcbdf5dbd358b375"
   },
   "outputs": [],
   "source": [
    "# plt.figure(figsize=(6, 6))\n",
    "# plt.scatter(y_train.values.flatten(), y_pred)\n",
    "# plt.xlim(0, 20)\n",
    "# plt.ylim(0, 20)\n",
    "# plt.xlabel('actual', fontsize=12)\n",
    "# plt.ylabel('predicted', fontsize=12)\n",
    "# plt.plot([(0, 0), (20, 20)], [(0, 0), (20, 20)])\n",
    "# plt.show()"
   ]
  },
  {
   "cell_type": "code",
   "execution_count": null,
   "metadata": {
    "_uuid": "de3c5187cb0b241e7298dc3f897b9ae8b58fabec"
   },
   "outputs": [],
   "source": [
    "scorerf = mean_absolute_error(y_train.values.flatten(), y_predrf)\n",
    "print(f'Scorerf: {scorerf:0.3f}')\n",
    "scorecb = mean_absolute_error(y_train.values.flatten(), y_predcb)\n",
    "print(f'Scorecb: {scorecb:0.3f}')\n"
   ]
  },
  {
   "cell_type": "code",
   "execution_count": null,
   "metadata": {
    "_uuid": "06f7409d7c7c7503b398bf83ff4dfacd1d885bed"
   },
   "outputs": [],
   "source": [
    "submission = pd.read_csv('../input/sample_submission.csv', index_col='seg_id')"
   ]
  },
  {
   "cell_type": "code",
   "execution_count": null,
   "metadata": {
    "_uuid": "22e782e30f041100dcb9f0d5472802815016bb43"
   },
   "outputs": [],
   "source": [
    "X_test = pd.DataFrame(columns=X_train.columns, dtype=np.float64, index=submission.index)"
   ]
  },
  {
   "cell_type": "code",
   "execution_count": null,
   "metadata": {
    "_uuid": "14467a49a67f9513225aed5c2b092aa9db45d1b4"
   },
   "outputs": [],
   "source": [
    "# X_test.head(10)\n",
    "for seg_id in X_test.index:\n",
    "    seg = pd.read_csv('../input/test/' + seg_id + '.csv')\n",
    "    \n",
    "    x = seg['acoustic_data']\n",
    "    \n",
    "    X_test.loc[seg_id, 'ave'] = x.mean()\n",
    "    X_test.loc[seg_id, 'std'] = x.std()\n",
    "    X_test.loc[seg_id, 'max'] = x.max()\n",
    "    X_test.loc[seg_id, 'min'] = x.min()\n",
    "    X_test.loc[segment, 'mad'] = x.mad()\n",
    "    X_test.loc[segment, 'kur'] = x.kurtosis()\n",
    "    X_test.loc[segment, 'skew'] = x.skew()\n",
    "    X_test.loc[segment, 'q95'] = np.quantile(x,0.95)\n",
    "    X_test.loc[segment, 'q99'] = np.quantile(x,0.99)\n",
    "    X_test.loc[segment, 'q05'] = np.quantile(x,0.05)\n",
    "    X_test.loc[segment, 'q01'] = np.quantile(x,0.01)"
   ]
  },
  {
   "cell_type": "code",
   "execution_count": null,
   "metadata": {
    "_uuid": "eaf25a80d6f03752593027c95bdd2474adbe5b13"
   },
   "outputs": [],
   "source": [
    "X_test_scaled = scaler.transform(X_test)\n",
    "\n",
    "subrf = rf.predict(X_test_scaled)\n",
    "subcb = m.predict(X_test_scaled)\n",
    "submission['time_to_failure'] = (subrf + subcb) / 2\n",
    "submission.to_csv('sub220119.csv')"
   ]
  },
  {
   "cell_type": "code",
   "execution_count": null,
   "metadata": {
    "_uuid": "c9d54dc39c30fba2681613d0f7b4ae4e14180b9c"
   },
   "outputs": [],
   "source": []
  }
 ],
 "metadata": {
  "kernelspec": {
   "display_name": "Python 3",
   "language": "python",
   "name": "python3"
  },
  "language_info": {
   "codemirror_mode": {
    "name": "ipython",
    "version": 3
   },
   "file_extension": ".py",
   "mimetype": "text/x-python",
   "name": "python",
   "nbconvert_exporter": "python",
   "pygments_lexer": "ipython3",
   "version": "3.6.7"
  }
 },
 "nbformat": 4,
 "nbformat_minor": 1
}
